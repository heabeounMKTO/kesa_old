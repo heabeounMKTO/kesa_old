{
 "cells": [
  {
   "cell_type": "code",
   "execution_count": 5,
   "id": "4b247c30",
   "metadata": {},
   "outputs": [],
   "source": [
    "import os\n",
    "import cv2\n",
    "import json\n",
    "from pathlib import Path\n",
    "import numpy as np\n",
    "import PIL.Image as Image\n",
    "import io\n",
    "import uuid"
   ]
  },
  {
   "cell_type": "code",
   "execution_count": 69,
   "id": "305b8b3f",
   "metadata": {
    "scrolled": false
   },
   "outputs": [
    {
     "name": "stdout",
     "output_type": "stream",
     "text": [
      "found  72  images\n",
      "found 8 images from random index\n"
     ]
    },
    {
     "ename": "error",
     "evalue": "OpenCV(4.7.0) /io/opencv/modules/imgproc/src/color.simd_helpers.hpp:94: error: (-2:Unspecified error) in function 'cv::impl::{anonymous}::CvtHelper<VScn, VDcn, VDepth, sizePolicy>::CvtHelper(cv::InputArray, cv::OutputArray, int) [with VScn = cv::impl::{anonymous}::Set<3, 4>; VDcn = cv::impl::{anonymous}::Set<1>; VDepth = cv::impl::{anonymous}::Set<0, 2, 5>; cv::impl::{anonymous}::SizePolicy sizePolicy = cv::impl::<unnamed>::NONE; cv::InputArray = const cv::_InputArray&; cv::OutputArray = const cv::_OutputArray&]'\n> Unsupported depth of input image:\n>     'VDepth::contains(depth)'\n> where\n>     'depth' is 6 (CV_64F)\n",
     "output_type": "error",
     "traceback": [
      "\u001b[0;31m---------------------------------------------------------------------------\u001b[0m",
      "\u001b[0;31merror\u001b[0m                                     Traceback (most recent call last)",
      "Cell \u001b[0;32mIn[69], line 85\u001b[0m\n\u001b[1;32m     75\u001b[0m \u001b[38;5;66;03m#             imgpath = os.path.join(self.folder, loadjson[\"imagePath\"])\u001b[39;00m\n\u001b[1;32m     76\u001b[0m \u001b[38;5;66;03m#             mask = np.array(pts, np.int32)\u001b[39;00m\n\u001b[1;32m     77\u001b[0m \u001b[38;5;66;03m#             img = cv2.imread(imgpath)\u001b[39;00m\n\u001b[0;32m   (...)\u001b[0m\n\u001b[1;32m     80\u001b[0m \u001b[38;5;66;03m#             gg = gg.astype(np.uint8)\u001b[39;00m\n\u001b[1;32m     81\u001b[0m \u001b[38;5;66;03m#             cv2.imwrite(f\"test2/t{index}.jpg\", gg)\u001b[39;00m\n\u001b[1;32m     84\u001b[0m test \u001b[38;5;241m=\u001b[39m labelCut(folder\u001b[38;5;241m=\u001b[39m\u001b[38;5;124m\"\u001b[39m\u001b[38;5;124mimgs\u001b[39m\u001b[38;5;124m\"\u001b[39m, randomImgFolder\u001b[38;5;241m=\u001b[39m\u001b[38;5;124m\"\u001b[39m\u001b[38;5;124mrandom\u001b[39m\u001b[38;5;124m\"\u001b[39m)\n\u001b[0;32m---> 85\u001b[0m \u001b[43mtest\u001b[49m\u001b[38;5;241;43m.\u001b[39;49m\u001b[43mrandomBgFromLabelme\u001b[49m\u001b[43m(\u001b[49m\u001b[43m)\u001b[49m\n",
      "Cell \u001b[0;32mIn[69], line 72\u001b[0m, in \u001b[0;36mlabelCut.randomBgFromLabelme\u001b[0;34m(self)\u001b[0m\n\u001b[1;32m     70\u001b[0m alpha \u001b[38;5;241m=\u001b[39m cv2\u001b[38;5;241m.\u001b[39mfillPoly(blackbg, pts \u001b[38;5;241m=\u001b[39m [mask], color\u001b[38;5;241m=\u001b[39m(\u001b[38;5;241m255\u001b[39m,\u001b[38;5;241m255\u001b[39m,\u001b[38;5;241m255\u001b[39m))\n\u001b[1;32m     71\u001b[0m _, alpha \u001b[38;5;241m=\u001b[39m cv2\u001b[38;5;241m.\u001b[39mthreshold(alpha, \u001b[38;5;241m0\u001b[39m,\u001b[38;5;241m255\u001b[39m,cv2\u001b[38;5;241m.\u001b[39mTHRESH_BINARY)\n\u001b[0;32m---> 72\u001b[0m alpha \u001b[38;5;241m=\u001b[39m \u001b[43mcv2\u001b[49m\u001b[38;5;241;43m.\u001b[39;49m\u001b[43mcvtColor\u001b[49m\u001b[43m(\u001b[49m\u001b[43malpha\u001b[49m\u001b[43m,\u001b[49m\u001b[43m \u001b[49m\u001b[43mcv2\u001b[49m\u001b[38;5;241;43m.\u001b[39;49m\u001b[43mCOLOR_BGR2GRAY\u001b[49m\u001b[43m)\u001b[49m\n\u001b[1;32m     73\u001b[0m \u001b[38;5;28mprint\u001b[39m(alpha\u001b[38;5;241m.\u001b[39mshape)\n\u001b[1;32m     74\u001b[0m cv2\u001b[38;5;241m.\u001b[39mimwrite(\u001b[38;5;124mf\u001b[39m\u001b[38;5;124m\"\u001b[39m\u001b[38;5;124mtest/t\u001b[39m\u001b[38;5;132;01m{\u001b[39;00mindex\u001b[38;5;132;01m}\u001b[39;00m\u001b[38;5;124m.jpg\u001b[39m\u001b[38;5;124m\"\u001b[39m, alpha)\n",
      "\u001b[0;31merror\u001b[0m: OpenCV(4.7.0) /io/opencv/modules/imgproc/src/color.simd_helpers.hpp:94: error: (-2:Unspecified error) in function 'cv::impl::{anonymous}::CvtHelper<VScn, VDcn, VDepth, sizePolicy>::CvtHelper(cv::InputArray, cv::OutputArray, int) [with VScn = cv::impl::{anonymous}::Set<3, 4>; VDcn = cv::impl::{anonymous}::Set<1>; VDepth = cv::impl::{anonymous}::Set<0, 2, 5>; cv::impl::{anonymous}::SizePolicy sizePolicy = cv::impl::<unnamed>::NONE; cv::InputArray = const cv::_InputArray&; cv::OutputArray = const cv::_OutputArray&]'\n> Unsupported depth of input image:\n>     'VDepth::contains(depth)'\n> where\n>     'depth' is 6 (CV_64F)\n"
     ]
    }
   ],
   "source": [
    "\n",
    "class labelCut:\n",
    "    def __init__(self, folder,randomImgFolder,randomImageArray=None, jsonArray=None,imageArray=None):\n",
    "        self.folder = folder\n",
    "        self.jsonArray = jsonArray\n",
    "        self.imageArray = imageArray\n",
    "        self.randomImgFolder = randomImgFolder\n",
    "        \n",
    "    def lookForJson(self, folder):\n",
    "        folder = Path(self.folder)\n",
    "        jsons = []\n",
    "        for roots, dir, files in os.walk(folder):\n",
    "            for file in files:\n",
    "                if file.endswith(\".json\"):\n",
    "                    h=(os.path.join(os.getcwd(), folder))\n",
    "                    jsons.append(os.path.join(h, file))\n",
    "        self.jsonArray = jsons\n",
    "        \n",
    "        return self.jsonArray\n",
    "\n",
    "    def readImageFromLabelme(self):\n",
    "        imagefiles = []\n",
    "        \n",
    "        jsons = self.lookForJson(self.folder)\n",
    "        '''\n",
    "        handles image path reading errors... some of my files are not\n",
    "        from the same machine so the local paths are different.. feel free to modify the \n",
    "        codes, or just open and save your labeled images in the same machine \n",
    "        '''\n",
    "        for jsonfile in jsons:\n",
    "            imagePath = \"\"\n",
    "            imageName = \"\"\n",
    "            # extension = os.path.splitext(Path(json.load(open(jsonfile))['imagePath']))[1]       \n",
    "            localDir = Path(json.load(open(jsonfile))['imagePath'])\n",
    "            if localDir != \"\":\n",
    "                imagePath = (json.load(open(jsonfile))['imagePath']) \n",
    "            else:\n",
    "                continue        \n",
    "            frontpath = Path(os.path.join(os.getcwd(),self.folder))\n",
    "            \n",
    "            fullpath = os.path.join(frontpath, imagePath)\n",
    "            imagefiles.append(fullpath)\n",
    "        print(\"found \", len(imagefiles), \" images\")\n",
    "        self.imageArray = imagefiles\n",
    "        return imagefiles\n",
    "     \n",
    "    def getRandomBackground(self):\n",
    "        randomimg = []\n",
    "        imgfmts = (\".jpg\", \".jpeg\", \".png\")\n",
    "        for root, dirs, files in os.walk(self.randomImgFolder):\n",
    "            for file in files:\n",
    "                if file.endswith(imgfmts):\n",
    "                    randomimg.append(os.path.join(os.getcwd(), (self.randomImgFolder + \"/\" + file)))\n",
    "        print(f\"found {len(randomimg)} images from random index\")\n",
    "        return randomimg\n",
    "\n",
    "\n",
    "    def randomBgFromLabelme(self):\n",
    "        self.readImageFromLabelme() #load json\n",
    "        randomimg = self.getRandomBackground()\n",
    "        count = 0\n",
    "        for index, label in enumerate(self.jsonArray): \n",
    "            loadjson = json.load(open(label))\n",
    "            imgpath = os.path.join(self.folder, loadjson[\"imagePath\"])\n",
    "            img = cv2.imread(imgpath)\n",
    "            blackbg = np.zeros((img.shape[0], img.shape[1], 3))\n",
    "            shape = loadjson[\"shapes\"]            \n",
    "            for label in shape:\n",
    "                pts = label[\"points\"]\n",
    "                mask = np.array(pts, np.int32)\n",
    "                alpha = cv2.fillPoly(blackbg, pts = [mask], color=(255,255,255))\n",
    "                _, alpha = cv2.threshold(alpha, 0,255,cv2.THRESH_BINARY)\n",
    "                alpha = cv2.cvtColor(alpha, cv2.COLOR_BGR2GRAY)\n",
    "                print(alpha.shape)\n",
    "                cv2.imwrite(f\"test/t{index}.jpg\", alpha)\n",
    "#             imgpath = os.path.join(self.folder, loadjson[\"imagePath\"])\n",
    "#             mask = np.array(pts, np.int32)\n",
    "#             img = cv2.imread(imgpath)\n",
    "#             blackbg = np.zeros((img.shape[0], img.shape[1], 3))\n",
    "#             gg = cv2.fillPoly(blackbg, pts = [mask], color=(255,255,255))\n",
    "#             gg = gg.astype(np.uint8)\n",
    "#             cv2.imwrite(f\"test2/t{index}.jpg\", gg)\n",
    "\n",
    "            \n",
    "test = labelCut(folder=\"imgs\", randomImgFolder=\"random\")\n",
    "test.randomBgFromLabelme()"
   ]
  }
 ],
 "metadata": {
  "kernelspec": {
   "display_name": "Python 3 (ipykernel)",
   "language": "python",
   "name": "python3"
  },
  "language_info": {
   "codemirror_mode": {
    "name": "ipython",
    "version": 3
   },
   "file_extension": ".py",
   "mimetype": "text/x-python",
   "name": "python",
   "nbconvert_exporter": "python",
   "pygments_lexer": "ipython3",
   "version": "3.10.6"
  }
 },
 "nbformat": 4,
 "nbformat_minor": 5
}
