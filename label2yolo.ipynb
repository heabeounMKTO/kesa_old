{
 "cells": [
  {
   "cell_type": "code",
   "execution_count": 66,
   "id": "821c6090",
   "metadata": {},
   "outputs": [],
   "source": [
    "from PIL import Image\n",
    "import cv2\n",
    "from numpy import ndarray\n",
    "from typing import List, Optional\n",
    "import json\n",
    "import numpy as np\n",
    "import itertools\n",
    "from math import floor, log10,sqrt"
   ]
  },
  {
   "cell_type": "code",
   "execution_count": 16,
   "id": "0abdf87b",
   "metadata": {
    "scrolled": false
   },
   "outputs": [
    {
     "name": "stdout",
     "output_type": "stream",
     "text": [
      "(1080, 1920, 3)\n",
      "1920 1080\n"
     ]
    }
   ],
   "source": [
    "im = cv2.imread(\"c/WIN_20230130_08_31_47_Pro.jpg\")\n",
    "img = Image.open(\"c/WIN_20230130_08_31_47_Pro.jpg\")\n",
    "print(im.shape)\n",
    "print(img.size[0], img.size[1])\n"
   ]
  },
  {
   "cell_type": "code",
   "execution_count": 70,
   "id": "54efe419",
   "metadata": {},
   "outputs": [
    {
     "name": "stdout",
     "output_type": "stream",
     "text": [
      "464.4\n"
     ]
    }
   ],
   "source": [
    "x = 426.8674698795181\n",
    "y = 882.1686746987951\n",
    "def normalize(x, y):\n",
    "    magnitude = sqrt(x*x + y*y)\n",
    "    x = x/magnitude\n",
    "    y = y/magnitude\n",
    "    print(0.43*1080)\n",
    "    \n",
    "normalize(x,y)\n",
    "    "
   ]
  },
  {
   "cell_type": "code",
   "execution_count": 65,
   "id": "e351adc3",
   "metadata": {},
   "outputs": [
    {
     "name": "stdout",
     "output_type": "stream",
     "text": [
      "128\n"
     ]
    }
   ],
   "source": [
    "jsonexample = json.load(open(\"c/WIN_20230130_08_31_47_Pro.json\"))\n",
    "shape = jsonexample[\"shapes\"]\n",
    "flatlist = []\n",
    "for points in shape:\n",
    "    for point in points[\"points\"]:\n",
    "        for x in point:\n",
    "            flatlist.append(x)\n",
    "flatlist = np.array(flatlist)\n",
    "odd = flatlist[0::2] / 1080\n",
    "even = flatlist[1::2] / 1920\n",
    "\n",
    "final = [*map(round_sig, list(itertools.chain(*[*zip(odd,even)])),)]\n",
    "print(len(final))"
   ]
  },
  {
   "cell_type": "code",
   "execution_count": 29,
   "id": "bd0f28ea",
   "metadata": {},
   "outputs": [],
   "source": [
    "\n",
    "def process(values: ndarray, width:int, height: int) -> List[float]:\n",
    "    odd = values[0::2]\n",
    "    even = values[1::2]\n",
    "    odd_processed = odd/width\n",
    "    even_processed = even/height\n",
    "    print(odd_processed)"
   ]
  },
  {
   "cell_type": "code",
   "execution_count": 23,
   "id": "fd5db8ab",
   "metadata": {},
   "outputs": [
    {
     "data": {
      "text/plain": [
       "(0.5051316376617582, 0.462914156626506)"
      ]
     },
     "execution_count": 23,
     "metadata": {},
     "output_type": "execute_result"
    }
   ],
   "source": [
    "w = im.shape[0]\n",
    "h = im.shape[1]\n",
    "\n",
    "x1 = 426.8674698795181\n",
    "y1 = 882.1686746987951\n",
    "\n",
    "convert((w,h),b)"
   ]
  }
 ],
 "metadata": {
  "kernelspec": {
   "display_name": "Python 3 (ipykernel)",
   "language": "python",
   "name": "python3"
  },
  "language_info": {
   "codemirror_mode": {
    "name": "ipython",
    "version": 3
   },
   "file_extension": ".py",
   "mimetype": "text/x-python",
   "name": "python",
   "nbconvert_exporter": "python",
   "pygments_lexer": "ipython3",
   "version": "3.10.6"
  }
 },
 "nbformat": 4,
 "nbformat_minor": 5
}
