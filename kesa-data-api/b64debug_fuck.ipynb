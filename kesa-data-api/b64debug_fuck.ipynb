{
 "cells": [
  {
   "cell_type": "code",
   "execution_count": 3,
   "id": "5a2ee8cd-81ba-46bf-ae54-3373a9462862",
   "metadata": {},
   "outputs": [],
   "source": [
    "from convert.labelme2yolo import Labelme2Yolo as L2Y\n",
    "import json\n",
    "import os\n",
    "import base64 "
   ]
  },
  {
   "cell_type": "code",
   "execution_count": 6,
   "id": "80ca58b5-7b64-41aa-81ea-de28fc0b14be",
   "metadata": {},
   "outputs": [],
   "source": [
    "# loads test res\n",
    "jsonFile = json.load(open(\"testfolder/dragon-1689237223149.json\"))\n",
    "jsonb"
   ]
  },
  {
   "cell_type": "code",
   "execution_count": 2,
   "id": "07b7a96f-ffc4-47fe-8e21-ad0fc5c41cde",
   "metadata": {},
   "outputs": [
    {
     "ename": "TypeError",
     "evalue": "Labelme2Yolo.__init__() missing 2 required positional arguments: 'json_file' and 'labellist'",
     "output_type": "error",
     "traceback": [
      "\u001b[0;31m---------------------------------------------------------------------------\u001b[0m",
      "\u001b[0;31mTypeError\u001b[0m                                 Traceback (most recent call last)",
      "Cell \u001b[0;32mIn[2], line 1\u001b[0m\n\u001b[0;32m----> 1\u001b[0m fuck \u001b[38;5;241m=\u001b[39m \u001b[43mL2Y\u001b[49m\u001b[43m(\u001b[49m\u001b[43m)\u001b[49m\n",
      "\u001b[0;31mTypeError\u001b[0m: Labelme2Yolo.__init__() missing 2 required positional arguments: 'json_file' and 'labellist'"
     ]
    }
   ],
   "source": [
    "fuck = L2Y()"
   ]
  }
 ],
 "metadata": {
  "kernelspec": {
   "display_name": "Python 3 (ipykernel)",
   "language": "python",
   "name": "python3"
  },
  "language_info": {
   "codemirror_mode": {
    "name": "ipython",
    "version": 3
   },
   "file_extension": ".py",
   "mimetype": "text/x-python",
   "name": "python",
   "nbconvert_exporter": "python",
   "pygments_lexer": "ipython3",
   "version": "3.10.6"
  }
 },
 "nbformat": 4,
 "nbformat_minor": 5
}
