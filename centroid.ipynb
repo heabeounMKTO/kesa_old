{
 "cells": [
  {
   "cell_type": "code",
   "execution_count": 41,
   "id": "f0bdf829",
   "metadata": {},
   "outputs": [],
   "source": [
    "import os \n",
    "import numpy as np\n",
    "import json\n",
    "from math import sqrt\n",
    "from scipy.spatial import ConvexHull\n",
    "from matplotlib import pyplot as plt\n",
    "import cv2"
   ]
  },
  {
   "cell_type": "code",
   "execution_count": 95,
   "id": "a968466d",
   "metadata": {
    "scrolled": true
   },
   "outputs": [
    {
     "name": "stderr",
     "output_type": "stream",
     "text": [
      "/tmp/ipykernel_29508/4187797363.py:9: DeprecationWarning: Please use `rotate` from the `scipy.ndimage` namespace, the `scipy.ndimage.interpolation` namespace is deprecated.\n",
      "  from scipy.ndimage.interpolation import rotate\n"
     ]
    }
   ],
   "source": [
    "jsonexample = json.load(open(\"c/WIN_20230130_08_31_47_Pro.json\"))\n",
    "shape = jsonexample[\"shapes\"]\n",
    "flatlist = []\n",
    "for points in shape[1][\"points\"]:\n",
    "    flatlist.append(points)\n",
    "flatlist = np.array(flatlist)\n",
    "\n",
    "def min_bounding_rect(points):\n",
    "    from scipy.ndimage.interpolation import rotate\n",
    "    pi2 = np.pi/2.\n",
    "    hull_points = points[ConvexHull(points).vertices]\n",
    "    \n",
    "    edges = np.zeros((len(hull_points)-1,2))\n",
    "    edges = hull_points[1:] - hull_points[:-1]\n",
    "    \n",
    "    angles = np.zeros((len(edges)))\n",
    "    angles = np.arctan2(edges[:, 1], edges[:, 0])\n",
    "    \n",
    "    angles = np.abs(np.mod(angles, pi2))\n",
    "    angles = np.unique(angles)\n",
    "    \n",
    "    rotations = np.vstack([\n",
    "        np.cos(angles),\n",
    "        np.cos(angles - pi2),\n",
    "        np.cos(angles+pi2),\n",
    "        np.cos(angles)]).T\n",
    "    rotations = rotations.reshape((-1,2,2))\n",
    "    \n",
    "    rot_points = np.dot(rotations, hull_points.T)\n",
    "    min_x = np.nanmin(rot_points[:, 0], axis=1)\n",
    "    max_x = np.nanmax(rot_points[:, 0], axis=1)\n",
    "    min_y = np.nanmin(rot_points[:, 1], axis=1)\n",
    "    max_y = np.nanmax(rot_points[:, 1], axis=1)\n",
    "    \n",
    "    areas = (max_x - min_x) * (max_y - min_y)\n",
    "    best_idx = np.argmin(areas)\n",
    "    \n",
    "    x1 = max_x[best_idx]\n",
    "    x2 = min_x[best_idx]\n",
    "    y1 = max_y[best_idx]\n",
    "    y2 = min_y[best_idx]\n",
    "    coords = (x1,y1,x2,y2)\n",
    "    return coords\n",
    "    \n",
    "rect = min_bounding_rect(flatlist)"
   ]
  },
  {
   "cell_type": "code",
   "execution_count": 96,
   "id": "5a7afda3",
   "metadata": {},
   "outputs": [
    {
     "data": {
      "text/plain": [
       "True"
      ]
     },
     "execution_count": 96,
     "metadata": {},
     "output_type": "execute_result"
    }
   ],
   "source": [
    "x1 = abs(int(rect[0]))\n",
    "y1 = abs(int(rect[1]))\n",
    "x2 = abs(int(rect[2]))\n",
    "y2 = abs(int(rect[3]))\n",
    "testimg = cv2.imread(\"c/WIN_20230130_08_31_47_Pro.jpg\", 1)\n",
    "rectimg = cv2.rectangle(testimg,(x1,y1), (x2,y2), (255,0,0),3)\n",
    "cv2.imwrite(\"c/testrect.png\", rectimg)\n"
   ]
  }
 ],
 "metadata": {
  "kernelspec": {
   "display_name": "Python 3 (ipykernel)",
   "language": "python",
   "name": "python3"
  },
  "language_info": {
   "codemirror_mode": {
    "name": "ipython",
    "version": 3
   },
   "file_extension": ".py",
   "mimetype": "text/x-python",
   "name": "python",
   "nbconvert_exporter": "python",
   "pygments_lexer": "ipython3",
   "version": "3.10.6"
  }
 },
 "nbformat": 4,
 "nbformat_minor": 5
}
