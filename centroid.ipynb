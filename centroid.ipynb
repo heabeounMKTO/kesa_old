{
 "cells": [
  {
   "cell_type": "code",
   "execution_count": 33,
   "id": "f0bdf829",
   "metadata": {},
   "outputs": [],
   "source": [
    "import os \n",
    "import numpy as np\n",
    "import json\n",
    "from math import sqrt\n",
    "from scipy.spatial import ConvexHull\n",
    "from matplotlib import pyplot as plt\n",
    "import cv2\n",
    "import yaml"
   ]
  },
  {
   "cell_type": "code",
   "execution_count": 104,
   "id": "a968466d",
   "metadata": {
    "scrolled": true
   },
   "outputs": [
    {
     "ename": "TypeError",
     "evalue": "str() argument 'encoding' must be str, not float",
     "output_type": "error",
     "traceback": [
      "\u001b[0;31m---------------------------------------------------------------------------\u001b[0m",
      "\u001b[0;31mTypeError\u001b[0m                                 Traceback (most recent call last)",
      "\u001b[0;32m/tmp/ipykernel_13024/1846153230.py\u001b[0m in \u001b[0;36m<module>\u001b[0;34m\u001b[0m\n\u001b[1;32m     15\u001b[0m         \u001b[0mfile\u001b[0m\u001b[0;34m.\u001b[0m\u001b[0mwrite\u001b[0m\u001b[0;34m(\u001b[0m\u001b[0;34m' '\u001b[0m\u001b[0;34m)\u001b[0m\u001b[0;34m\u001b[0m\u001b[0;34m\u001b[0m\u001b[0m\n\u001b[1;32m     16\u001b[0m         \u001b[0;32mfor\u001b[0m \u001b[0mpoint\u001b[0m \u001b[0;32min\u001b[0m \u001b[0mlabel\u001b[0m\u001b[0;34m[\u001b[0m\u001b[0;34m\"points\"\u001b[0m\u001b[0;34m]\u001b[0m\u001b[0;34m:\u001b[0m\u001b[0;34m\u001b[0m\u001b[0;34m\u001b[0m\u001b[0m\n\u001b[0;32m---> 17\u001b[0;31m             \u001b[0mfile\u001b[0m\u001b[0;34m.\u001b[0m\u001b[0mwrite\u001b[0m\u001b[0;34m(\u001b[0m\u001b[0mstr\u001b[0m\u001b[0;34m(\u001b[0m\u001b[0mpoint\u001b[0m\u001b[0;34m[\u001b[0m\u001b[0;36m0\u001b[0m\u001b[0;34m]\u001b[0m\u001b[0;34m/\u001b[0m\u001b[0mjsonexample\u001b[0m\u001b[0;34m[\u001b[0m\u001b[0;34m\"imageWidth\"\u001b[0m\u001b[0;34m]\u001b[0m\u001b[0;34m,\u001b[0m \u001b[0mpoint\u001b[0m\u001b[0;34m[\u001b[0m\u001b[0;36m1\u001b[0m\u001b[0;34m]\u001b[0m\u001b[0;34m/\u001b[0m\u001b[0mjsonexample\u001b[0m\u001b[0;34m[\u001b[0m\u001b[0;34m\"imageHeight\"\u001b[0m\u001b[0;34m]\u001b[0m\u001b[0;34m)\u001b[0m\u001b[0;34m)\u001b[0m\u001b[0;34m\u001b[0m\u001b[0;34m\u001b[0m\u001b[0m\n\u001b[0m\u001b[1;32m     18\u001b[0m             \u001b[0mfile\u001b[0m\u001b[0;34m.\u001b[0m\u001b[0mwrite\u001b[0m\u001b[0;34m(\u001b[0m\u001b[0;34m' '\u001b[0m\u001b[0;34m)\u001b[0m\u001b[0;34m\u001b[0m\u001b[0;34m\u001b[0m\u001b[0m\n\u001b[1;32m     19\u001b[0m         \u001b[0mfile\u001b[0m\u001b[0;34m.\u001b[0m\u001b[0mwrite\u001b[0m\u001b[0;34m(\u001b[0m\u001b[0;34m'\\n'\u001b[0m\u001b[0;34m)\u001b[0m\u001b[0;34m\u001b[0m\u001b[0;34m\u001b[0m\u001b[0m\n",
      "\u001b[0;31mTypeError\u001b[0m: str() argument 'encoding' must be str, not float"
     ]
    }
   ],
   "source": [
    "jsonexample = json.load(open(\"c/WIN_20230130_08_31_47_Pro.json\"))\n",
    "shape = jsonexample[\"shapes\"]\n",
    "flatlist = []\n",
    "labelslist = []\n",
    "with open(\"labels.yaml\") as file:\n",
    "    labellist = yaml.load(file, Loader=yaml.FullLoader)\n",
    "\n",
    "labelcount = 0\n",
    "normalizedXY = []\n",
    "for index, label in enumerate(shape):\n",
    "    labelidx = labellist.index(label[\"label\"])\n",
    "    with open(\"testLabel.txt\", \"w\") as file:\n",
    "        file.write('\\n')\n",
    "        file.write(str(labelidx))\n",
    "        file.write(' ')\n",
    "        for point in label[\"points\"]:\n",
    "            file.write(str(point[0]/jsonexample[\"imageWidth\"], point[1]/jsonexample[\"imageHeight\"]))\n",
    "            file.write(' ')\n",
    "        file.write('\\n')\n"
   ]
  },
  {
   "cell_type": "code",
   "execution_count": null,
   "id": "da48f27e",
   "metadata": {},
   "outputs": [],
   "source": [
    "\n",
    "def min_bounding_rect(points):\n",
    "    from scipy.ndimage.interpolation import rotate\n",
    "    pi2 = np.pi/2.\n",
    "    hull_points = points[ConvexHull(points).vertices]\n",
    "    \n",
    "    edges = np.zeros((len(hull_points)-1,2))\n",
    "    edges = hull_points[1:] - hull_points[:-1]\n",
    "    \n",
    "    angles = np.zeros((len(edges)))\n",
    "    angles = np.arctan2(edges[:, 1], edges[:, 0])\n",
    "    \n",
    "    angles = np.abs(np.mod(angles, pi2))\n",
    "    angles = np.unique(angles)\n",
    "    \n",
    "    rotations = np.vstack([\n",
    "        np.cos(angles),\n",
    "        np.cos(angles - pi2),\n",
    "        np.cos(angles+pi2),\n",
    "        np.cos(angles)]).T\n",
    "    rotations = rotations.reshape((-1,2,2))\n",
    "    \n",
    "    rot_points = np.dot(rotations, hull_points.T)\n",
    "    min_x = np.nanmin(rot_points[:, 0], axis=1)\n",
    "    max_x = np.nanmax(rot_points[:, 0], axis=1)\n",
    "    min_y = np.nanmin(rot_points[:, 1], axis=1)\n",
    "    max_y = np.nanmax(rot_points[:, 1], axis=1)\n",
    "    \n",
    "    areas = (max_x - min_x) * (max_y - min_y)\n",
    "    best_idx = np.argmin(areas)\n",
    "    \n",
    "    x1 = max_x[best_idx]\n",
    "    x2 = min_x[best_idx]\n",
    "    y1 = max_y[best_idx]\n",
    "    y2 = min_y[best_idx]\n",
    "    coords = (x1,y1,x2,y2)\n",
    "    return coords\n",
    "    \n",
    "rect = min_bounding_rect(flatlist)"
   ]
  },
  {
   "cell_type": "code",
   "execution_count": null,
   "id": "10ef4ab2",
   "metadata": {},
   "outputs": [],
   "source": [
    "def xyxy2xywh(x):\n",
    "    y = x.clone() if isinstance(x, torch.Tensor) else np.copy(x)\n",
    "    y[:, 0] = (x[:, 0] + x[:, 2]) / 2\n",
    "    y[:, 1] = (x[:, 1] + x[:, 3]) / 2"
   ]
  },
  {
   "cell_type": "code",
   "execution_count": 3,
   "id": "5a7afda3",
   "metadata": {},
   "outputs": [
    {
     "data": {
      "text/plain": [
       "True"
      ]
     },
     "execution_count": 3,
     "metadata": {},
     "output_type": "execute_result"
    }
   ],
   "source": [
    "x1 = abs(int(rect[0]))\n",
    "y1 = abs(int(rect[1]))\n",
    "x2 = abs(int(rect[2]))\n",
    "y2 = abs(int(rect[3]))\n",
    "testimg = cv2.imread(\"c/WIN_20230130_08_31_47_Pro.jpg\", 1)\n",
    "rectimg = cv2.rectangle(testimg,(x1,y1), (x2,y2), (255,0,0),3)\n",
    "cv2.imwrite(\"c/testrect.png\", rectimg)\n"
   ]
  }
 ],
 "metadata": {
  "kernelspec": {
   "display_name": "Python 3 (ipykernel)",
   "language": "python",
   "name": "python3"
  },
  "language_info": {
   "codemirror_mode": {
    "name": "ipython",
    "version": 3
   },
   "file_extension": ".py",
   "mimetype": "text/x-python",
   "name": "python",
   "nbconvert_exporter": "python",
   "pygments_lexer": "ipython3",
   "version": "3.10.6"
  }
 },
 "nbformat": 4,
 "nbformat_minor": 5
}
