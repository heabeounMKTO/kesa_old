{
 "cells": [
  {
   "cell_type": "code",
   "execution_count": 1,
   "id": "f0bdf829",
   "metadata": {},
   "outputs": [],
   "source": [
    "import os \n",
    "import numpy as np\n",
    "import json\n",
    "from math import sqrt\n",
    "from scipy.spatial import ConvexHull\n",
    "from matplotlib import pyplot as plt\n",
    "import cv2\n",
    "import yaml"
   ]
  },
  {
   "cell_type": "code",
   "execution_count": 52,
   "id": "a968466d",
   "metadata": {
    "scrolled": true
   },
   "outputs": [
    {
     "name": "stdout",
     "output_type": "stream",
     "text": [
      "['12', '0.22232680722891568', '0.8168228469433289', '0.21730672690763056', '0.8045515394912985', '0.21354166666666669', '0.7967425256581883', '0.21354166666666669', '0.7833556448014279', '0.2110316265060241', '0.7398482820169567', '0.20852158634538157', '0.5234270414993307', '0.2110316265060241', '0.38844265952699686', '0.21416917670682734', '0.24118697010263274', '0.21918925702811248', '0.17759928603302103', '0.22358182730923695', '0.16086568496207054', '0.2286019076305221', '0.1552878179384204', '0.34155371485943775', '0.1441320838911201', '0.3553589357429719', '0.1441320838911201', '0.3522213855421687', '0.6494868362338242', '0.35912399598393574', '0.8023203926818384', '0.3572414658634538', '0.825747434181169', '0.34594628514056225', '0.8290941543953592']\n"
     ]
    }
   ],
   "source": [
    "jsonexample = json.load(open(\"c/WIN_20230130_08_31_47_Pro.json\"))\n",
    "shape = jsonexample[\"shapes\"]\n",
    "flatlist = []\n",
    "labelslist = []\n",
    "with open(\"labels.yaml\") as file:\n",
    "    labellist = yaml.load(file, Loader=yaml.FullLoader)\n",
    "\n",
    "labelcount = 0\n",
    "bundle = []\n",
    "labels = []\n",
    "for i in range(len(shape)):\n",
    "    label = labellist.index(shape[i][\"label\"])\n",
    "    labels.append([str(label)])\n",
    "    for points in shape[i][\"points\"]:\n",
    "        xNorm = points[0]/jsonexample[\"imageWidth\"]\n",
    "        yNorm = points[1]/jsonexample[\"imageHeight\"]\n",
    "        labels[i].append(str(xNorm))\n",
    "        labels[i].append(str(yNorm))\n",
    "\n",
    "print(labels[0])\n",
    "\n",
    "with open(\"testLabel.txt\", \"w\") as file:\n",
    "    for i in range(len(labels)):\n",
    "        for x in labels[i]:\n",
    "            file.write(x)\n",
    "            file.write(\" \")\n",
    "        file.write('\\n')\n",
    "        \n",
    "\n",
    "\n",
    "    \n"
   ]
  },
  {
   "cell_type": "code",
   "execution_count": null,
   "id": "da48f27e",
   "metadata": {},
   "outputs": [],
   "source": [
    "\n",
    "def min_bounding_rect(points):\n",
    "    from scipy.ndimage.interpolation import rotate\n",
    "    pi2 = np.pi/2.\n",
    "    hull_points = points[ConvexHull(points).vertices]\n",
    "    \n",
    "    edges = np.zeros((len(hull_points)-1,2))\n",
    "    edges = hull_points[1:] - hull_points[:-1]\n",
    "    \n",
    "    angles = np.zeros((len(edges)))\n",
    "    angles = np.arctan2(edges[:, 1], edges[:, 0])\n",
    "    \n",
    "    angles = np.abs(np.mod(angles, pi2))\n",
    "    angles = np.unique(angles)\n",
    "    \n",
    "    rotations = np.vstack([\n",
    "        np.cos(angles),\n",
    "        np.cos(angles - pi2),\n",
    "        np.cos(angles+pi2),\n",
    "        np.cos(angles)]).T\n",
    "    rotations = rotations.reshape((-1,2,2))\n",
    "    \n",
    "    rot_points = np.dot(rotations, hull_points.T)\n",
    "    min_x = np.nanmin(rot_points[:, 0], axis=1)\n",
    "    max_x = np.nanmax(rot_points[:, 0], axis=1)\n",
    "    min_y = np.nanmin(rot_points[:, 1], axis=1)\n",
    "    max_y = np.nanmax(rot_points[:, 1], axis=1)\n",
    "    \n",
    "    areas = (max_x - min_x) * (max_y - min_y)\n",
    "    best_idx = np.argmin(areas)\n",
    "    \n",
    "    x1 = max_x[best_idx]\n",
    "    x2 = min_x[best_idx]\n",
    "    y1 = max_y[best_idx]\n",
    "    y2 = min_y[best_idx]\n",
    "    coords = (x1,y1,x2,y2)\n",
    "    return coords\n",
    "    \n",
    "rect = min_bounding_rect(flatlist)"
   ]
  },
  {
   "cell_type": "code",
   "execution_count": null,
   "id": "10ef4ab2",
   "metadata": {},
   "outputs": [],
   "source": [
    "def xyxy2xywh(x):\n",
    "    y = x.clone() if isinstance(x, torch.Tensor) else np.copy(x)\n",
    "    y[:, 0] = (x[:, 0] + x[:, 2]) / 2\n",
    "    y[:, 1] = (x[:, 1] + x[:, 3]) / 2"
   ]
  },
  {
   "cell_type": "code",
   "execution_count": 3,
   "id": "5a7afda3",
   "metadata": {},
   "outputs": [
    {
     "data": {
      "text/plain": [
       "True"
      ]
     },
     "execution_count": 3,
     "metadata": {},
     "output_type": "execute_result"
    }
   ],
   "source": [
    "x1 = abs(int(rect[0]))\n",
    "y1 = abs(int(rect[1]))\n",
    "x2 = abs(int(rect[2]))\n",
    "y2 = abs(int(rect[3]))\n",
    "testimg = cv2.imread(\"c/WIN_20230130_08_31_47_Pro.jpg\", 1)\n",
    "rectimg = cv2.rectangle(testimg,(x1,y1), (x2,y2), (255,0,0),3)\n",
    "cv2.imwrite(\"c/testrect.png\", rectimg)\n"
   ]
  }
 ],
 "metadata": {
  "kernelspec": {
   "display_name": "Python 3 (ipykernel)",
   "language": "python",
   "name": "python3"
  },
  "language_info": {
   "codemirror_mode": {
    "name": "ipython",
    "version": 3
   },
   "file_extension": ".py",
   "mimetype": "text/x-python",
   "name": "python",
   "nbconvert_exporter": "python",
   "pygments_lexer": "ipython3",
   "version": "3.10.6"
  }
 },
 "nbformat": 4,
 "nbformat_minor": 5
}
