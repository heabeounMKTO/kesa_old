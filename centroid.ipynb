{
 "cells": [
  {
   "cell_type": "code",
   "execution_count": 34,
   "id": "76614afc",
   "metadata": {},
   "outputs": [],
   "source": [
    "import os \n",
    "import numpy as np\n",
    "import json\n",
    "from math import sqrt\n",
    "from scipy.spatial import ConvexHull\n",
    "from matplotlib import pyplot as plt"
   ]
  },
  {
   "cell_type": "code",
   "execution_count": 39,
   "id": "1ce2af1a",
   "metadata": {},
   "outputs": [
    {
     "name": "stdout",
     "output_type": "stream",
     "text": [
      "1616.3700222939854 903.6687585747296 403.660398539549 131.58254537429625\n"
     ]
    },
    {
     "name": "stderr",
     "output_type": "stream",
     "text": [
      "/tmp/ipykernel_29508/964221716.py:10: DeprecationWarning: Please use `rotate` from the `scipy.ndimage` namespace, the `scipy.ndimage.interpolation` namespace is deprecated.\n",
      "  from scipy.ndimage.interpolation import rotate\n"
     ]
    }
   ],
   "source": [
    "jsonexample = json.load(open(\"c/WIN_20230130_08_31_47_Pro.json\"))\n",
    "shape = jsonexample[\"shapes\"]\n",
    "flatlist = []\n",
    "for points in shape:\n",
    "    for point in points[\"points\"]:\n",
    "        flatlist.append(point)\n",
    "flatlist = np.array(flatlist)\n",
    "\n",
    "def min_bounding_rect(points):\n",
    "    from scipy.ndimage.interpolation import rotate\n",
    "    pi2 = np.pi/2.\n",
    "    hull_points = points[ConvexHull(points).vertices]\n",
    "    \n",
    "    edges = np.zeros((len(hull_points)-1,2))\n",
    "    edges = hull_points[1:] - hull_points[:-1]\n",
    "    \n",
    "    angles = np.zeros((len(edges)))\n",
    "    angles = np.arctan2(edges[:, 1], edges[:, 0])\n",
    "    \n",
    "    angles = np.abs(np.mod(angles, pi2))\n",
    "    angles = np.unique(angles)\n",
    "    \n",
    "    rotations = np.vstack([\n",
    "        np.cos(angles),\n",
    "        np.cos(angles - pi2),\n",
    "        np.cos(angles+pi2),\n",
    "        np.cos(angles)]).T\n",
    "    rotations = rotations.reshape((-1,2,2))\n",
    "    \n",
    "    rot_points = np.dot(rotations, hull_points.T)\n",
    "    min_x = np.nanmin(rot_points[:, 0], axis=1)\n",
    "    max_x = np.nanmax(rot_points[:, 0], axis=1)\n",
    "    min_y = np.nanmin(rot_points[:, 1], axis=1)\n",
    "    max_y = np.nanmax(rot_points[:, 1], axis=1)\n",
    "    \n",
    "    areas = (max_x - min_x) * (max_y - min_y)\n",
    "    best_idx = np.argmin(areas)\n",
    "    \n",
    "    x1 = max_x[best_idx]\n",
    "    x2 = min_x[best_idx]\n",
    "    y1 = max_y[best_idx]\n",
    "    y2 = min_y[best_idx]\n",
    "    print(x1,y1,x2,y2)\n",
    "#     r = rotations[best_idx]\n",
    "    \n",
    "#     rval = np.zeros((4,2))\n",
    "#     rval[0] = np.dot([x1,y2], r)\n",
    "#     rval[1] = np.dot([x2, y2], r)\n",
    "#     rval[2] = np.dot([x2, y1], r)\n",
    "#     rval[3] = np.dot([x1, y1], r)\n",
    "#     print(rval)\n",
    "#     return rval\n",
    "\n",
    "rect = min_bounding_rect(flatlist)"
   ]
  },
  {
   "cell_type": "code",
   "execution_count": 38,
   "id": "e1c8c1e2",
   "metadata": {},
   "outputs": [
    {
     "ename": "AttributeError",
     "evalue": "'numpy.ndarray' object has no attribute 'append'",
     "output_type": "error",
     "traceback": [
      "\u001b[0;31m---------------------------------------------------------------------------\u001b[0m",
      "\u001b[0;31mAttributeError\u001b[0m                            Traceback (most recent call last)",
      "Cell \u001b[0;32mIn[38], line 1\u001b[0m\n\u001b[0;32m----> 1\u001b[0m \u001b[43mrect\u001b[49m\u001b[38;5;241;43m.\u001b[39;49m\u001b[43mappend\u001b[49m(rect[\u001b[38;5;241m0\u001b[39m])\n\u001b[1;32m      2\u001b[0m xs , ys \u001b[38;5;241m=\u001b[39m \u001b[38;5;28mzip\u001b[39m(\u001b[38;5;241m*\u001b[39mrect)\n\u001b[1;32m      3\u001b[0m plt\u001b[38;5;241m.\u001b[39mfigure()\n",
      "\u001b[0;31mAttributeError\u001b[0m: 'numpy.ndarray' object has no attribute 'append'"
     ]
    }
   ],
   "source": [
    "rect.append(rect[0])\n",
    "xs , ys = zip(*rect)\n",
    "plt.figure()\n",
    "plt.plot(xs,ys)\n",
    "plt.show()"
   ]
  }
 ],
 "metadata": {
  "kernelspec": {
   "display_name": "Python 3 (ipykernel)",
   "language": "python",
   "name": "python3"
  },
  "language_info": {
   "codemirror_mode": {
    "name": "ipython",
    "version": 3
   },
   "file_extension": ".py",
   "mimetype": "text/x-python",
   "name": "python",
   "nbconvert_exporter": "python",
   "pygments_lexer": "ipython3",
   "version": "3.10.6"
  }
 },
 "nbformat": 4,
 "nbformat_minor": 5
}
